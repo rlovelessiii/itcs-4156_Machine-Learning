{
 "cells": [
  {
   "cell_type": "code",
   "execution_count": 41,
   "metadata": {
    "collapsed": true,
    "pycharm": {
     "name": "#%%\n",
     "is_executing": false
    }
   },
   "outputs": [
    {
     "name": "stdout",
     "text": [
      "10.0\n10.0\n11.0\n11.0\n11.0\n11.0\n12.0\n12.0\n12.0\n12.0\n12.0\n12.0\n13.0\n13.0\n13.0\n13.0\n13.0\n13.0\n13.0\n13.0\n13.0\n13.0\n13.0\n13.0\n13.0\n13.0\n13.0\n13.0\n13.0\n13.0\n13.0\n13.0\n14.0\n14.0\n14.0\n14.0\n14.0\n14.0\n14.0\n14.0\n14.0\n14.0\n14.0\n14.0\n14.0\n14.0\n14.0\n14.0\n14.0\n14.0\n14.0\n14.5\n15.0\n15.0\n15.0\n15.0\n15.0\n15.0\n15.0\n15.0\n15.0\n15.0\n15.0\n15.0\n15.0\n15.0\n15.0\n15.0\n15.5\n15.5\n15.5\n15.5\n15.5\n16.0\n16.0\n16.0\n16.0\n16.0\n16.0\n16.0\n16.0\n16.0\n16.0\n16.0\n16.0\n16.0\n16.2\n16.5\n16.5\n16.5\n16.9\n17.0\n17.0\n17.0\n17.0\n17.0\n17.0\n17.0\n17.5\n17.5\n17.5\n17.5\n17.5\n17.6\n17.6\n17.7\n18.0\n18.0\n18.0\n18.0\n18.0\n18.0\n18.0\n18.0\n18.0\n18.0\n18.0\n18.0\n18.0\n18.0\n18.0\n18.0\n18.0\n18.1\n18.1\n18.2\n18.5\n18.5\n18.5\n18.6\n19.0\n19.0\n19.0\n19.0\n19.0\n19.0\n19.0\n19.0\n19.0\n19.0\n19.0\n19.0\n19.1\n19.2\n19.2\n19.2\n19.4\n19.4\n19.8\n19.9\n20.0\n20.0\n20.0\n20.0\n20.0\n20.0\n20.0\n20.0\n20.0\n20.2\n20.2\n20.2\n20.2\n20.3\n20.5\n20.5\n20.5\n20.6\n20.6\n20.8\n21.0\n21.0\n21.0\n21.0\n21.0\n21.0\n21.0\n21.0\n21.1\n21.5\n21.5\n21.5\n21.6\n22.0\n22.0\n22.0\n22.0\n22.0\n22.0\n22.0\n22.0\n22.0\n22.0\n22.3\n22.4\n22.5\n23.0\n23.0\n23.0\n23.0\n23.0\n23.0\n23.0\n23.0\n23.0\n23.0\n23.2\n23.5\n23.6\n23.7\n23.8\n23.9\n23.9\n24.0\n24.0\n24.0\n24.0\n24.0\n24.0\n24.0\n24.0\n24.0\n24.0\n24.0\n24.2\n24.3\n24.5\n24.5\n25.0\n25.0\n25.0\n25.0\n25.0\n25.0\n25.0\n25.0\n25.0\n25.0\n25.0\n25.1\n25.4\n25.4\n25.5\n25.5\n25.8\n26.0\n26.0\n26.0\n26.0\n26.0\n26.0\n26.0\n26.0\n26.0\n26.0\n26.0\n26.0\n26.0\n26.0\n26.4\n26.5\n26.6\n26.6\n26.8\n27.0\n27.0\n27.0\n27.0\n27.0\n27.0\n27.0\n27.0\n27.0\n27.2\n27.2\n27.2\n27.4\n27.5\n27.9\n28.0\n28.0\n28.0\n28.0\n28.0\n28.0\n28.0\n28.0\n28.0\n28.0\n28.1\n28.4\n28.8\n29.0\n29.0\n29.0\n29.0\n29.0\n29.0\n29.0\n29.0\n29.5\n29.5\n29.8\n29.8\n29.9\n30.0\n30.0\n30.0\n30.0\n30.0\n30.0\n30.0\n30.5\n30.5\n30.7\n30.9\n31.0\n31.0\n31.0\n31.0\n31.0\n31.0\n31.0\n31.3\n31.5\n31.5\n31.6\n31.8\n31.9\n32.0\n32.0\n32.0\n32.0\n32.0\n32.0\n32.1\n32.2\n32.3\n32.4\n32.4\n32.7\n32.8\n32.9\n33.0\n33.0\n33.0\n33.5\n33.5\n33.5\n33.7\n33.8\n34.0\n34.0\n34.1\n34.1\n34.2\n34.3\n34.4\n34.5\n34.5\n34.7\n35.0\n35.0\n35.1\n35.7\n36.0\n36.0\n36.0\n36.0\n36.0\n36.0\n36.1\n36.1\n36.4\n37.0\n37.0\n37.0\n37.2\n37.3\n37.7\n38.0\n38.0\n38.0\n38.0\n38.1\n39.0\n39.1\n39.4\n40.8\n40.9\n41.5\n43.1\n43.4\n44.0\n44.3\n44.6\n46.6\n9.0\nMean:  23.5145728643216\nMedian:  23.0\nMode:  13.0\n"
     ],
     "output_type": "stream"
    }
   ],
   "source": [
    "# CentralTendency\n",
    "# Author: Richard Loveless III (RLovelessIII)\n",
    "# Description: Script to demonstrate the modes of Central Tendency\n",
    "\n",
    "def main():\n",
    "    file = open(\"../data/auto-mpg.data\", \"r\")\n",
    "    contents = file.readlines()\n",
    "    mpg = []\n",
    "    for line in contents:\n",
    "        data = line.split()\n",
    "        mpg.append(data[0])\n",
    "    mpg.sort()\n",
    "    m1 = mean(mpg)\n",
    "    m2 = median(mpg)\n",
    "    m3 = mode(mpg)\n",
    "    print(\"Mean: \", m1)\n",
    "    print(\"Median: \", m2)\n",
    "    print(\"Mode: \", m3)\n",
    "    file.close()\n",
    "\n",
    "def mean(data):\n",
    "    n = len(data)\n",
    "    total = 0\n",
    "    for entry in data:\n",
    "        total += float(entry)\n",
    "    return total / n\n",
    "\n",
    "def median(data):\n",
    "    n = len(data)\n",
    "    center_index = n / 2\n",
    "    if center_index % 1 > 0.0:\n",
    "        return data[round(center_index) - 1]\n",
    "    else:\n",
    "        a = float(data[int(center_index)])\n",
    "        b = float(data[int(center_index) - 1])\n",
    "        return (a + b) / 2\n",
    "    \n",
    "def mode(data):\n",
    "    hash = {}\n",
    "    highest_count = 0\n",
    "    mode = None\n",
    "    for entry in data:\n",
    "        if entry in hash.keys():\n",
    "            hash[entry] += 1\n",
    "        else:\n",
    "            hash[entry] = 1\n",
    "        if hash[entry] > highest_count:\n",
    "            highest_count = hash[entry]\n",
    "            mode = entry\n",
    "    return mode\n",
    "    \n",
    "    \n",
    "if __name__ is \"__main__\":\n",
    "    main()"
   ]
  }
 ],
 "metadata": {
  "language_info": {
   "codemirror_mode": {
    "name": "ipython",
    "version": 2
   },
   "file_extension": ".py",
   "mimetype": "text/x-python",
   "name": "python",
   "nbconvert_exporter": "python",
   "pygments_lexer": "ipython2",
   "version": "2.7.6"
  },
  "kernelspec": {
   "name": "python3",
   "language": "python",
   "display_name": "Python 3"
  },
  "pycharm": {
   "stem_cell": {
    "cell_type": "raw",
    "source": [],
    "metadata": {
     "collapsed": false
    }
   }
  }
 },
 "nbformat": 4,
 "nbformat_minor": 0
}