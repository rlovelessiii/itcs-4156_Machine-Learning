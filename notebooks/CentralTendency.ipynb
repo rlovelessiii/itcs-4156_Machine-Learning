{
 "cells": [
  {
   "cell_type": "code",
   "execution_count": 35,
   "metadata": {
    "collapsed": true,
    "pycharm": {
     "name": "#%%\n",
     "is_executing": false
    }
   },
   "outputs": [
    {
     "name": "stdout",
     "text": [
      "Mean:  23.5145728643216\nMedian:  23.0\n"
     ],
     "output_type": "stream"
    }
   ],
   "source": [
    "# CentralTendency\n",
    "# Author: Richard Loveless III (RLovelessIII)\n",
    "# Description: Script to demonstrate the modes of Central Tendency\n",
    "\n",
    "def main():\n",
    "    file = open(\"../data/auto-mpg.data\", \"r\")\n",
    "    contents = file.readlines()\n",
    "    mpg = []\n",
    "    for line in contents:\n",
    "        data = line.split()\n",
    "        mpg.append(data[0])\n",
    "    mpg.sort()\n",
    "    m1 = mean(mpg)\n",
    "    m2 = median(mpg)\n",
    "    print(\"Mean: \", m1)\n",
    "    print(\"Median: \", m2)\n",
    "    file.close()\n",
    "\n",
    "def mean(data):\n",
    "    n = len(data)\n",
    "    total = 0\n",
    "    for number in data:\n",
    "        total += float(number)\n",
    "    return total / n\n",
    "\n",
    "def median(data):\n",
    "    n = len(data)\n",
    "    center_index = n / 2\n",
    "    if center_index % 1 > 0.0:\n",
    "        return data[round(center_index) - 1]\n",
    "    else:\n",
    "        a = float(data[int(center_index)])\n",
    "        b = float(data[int(center_index) - 1])\n",
    "        return (a + b) / 2\n",
    "    \n",
    "    \n",
    "if __name__ is \"__main__\":\n",
    "    main()"
   ]
  }
 ],
 "metadata": {
  "language_info": {
   "codemirror_mode": {
    "name": "ipython",
    "version": 2
   },
   "file_extension": ".py",
   "mimetype": "text/x-python",
   "name": "python",
   "nbconvert_exporter": "python",
   "pygments_lexer": "ipython2",
   "version": "2.7.6"
  },
  "kernelspec": {
   "name": "python3",
   "language": "python",
   "display_name": "Python 3"
  },
  "pycharm": {
   "stem_cell": {
    "cell_type": "raw",
    "source": [],
    "metadata": {
     "collapsed": false
    }
   }
  }
 },
 "nbformat": 4,
 "nbformat_minor": 0
}