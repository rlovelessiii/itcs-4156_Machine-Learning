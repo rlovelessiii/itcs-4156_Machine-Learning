{
 "cells": [
  {
   "cell_type": "code",
   "execution_count": 48,
   "metadata": {
    "collapsed": true,
    "pycharm": {
     "name": "#%%\n",
     "is_executing": false
    }
   },
   "outputs": [
    {
     "name": "stdout",
     "text": [
      "Values:  398\nMean:  23.5145728643216\nMedian:  23.0\nMode:  13.0\n"
     ],
     "output_type": "stream"
    }
   ],
   "source": [
    "# CentralTendency\n",
    "# Author: Richard Loveless III (RLovelessIII)\n",
    "# Description: Script to demonstrate the modes of Central Tendency\n",
    "\n",
    "def main():\n",
    "    file = open(\"../data/auto-mpg.data\", \"r\")\n",
    "    contents = file.readlines()\n",
    "    data_set = []\n",
    "    # Gather the first column values from the data file\n",
    "    for line in contents:\n",
    "        data = line.split()\n",
    "        data_set.append(data[0])\n",
    "    # Sort the data from low --> high\n",
    "    data_set.sort()\n",
    "    # Modes of central tendency\n",
    "    m1 = mean(data_set)\n",
    "    m2 = median(data_set)\n",
    "    m3 = mode(data_set)\n",
    "    # Display values from data-set\n",
    "    print(\"Values: \", len(data_set))\n",
    "    print(\"Mean: \", m1)\n",
    "    print(\"Median: \", m2)\n",
    "    print(\"Mode: \", m3)\n",
    "    # Close file to prevent memory leaks\n",
    "    file.close()\n",
    "\n",
    "# Takes in a data-set in the form of an array and return the average of the data-set\n",
    "def mean(data):\n",
    "    n = len(data)\n",
    "    total = 0\n",
    "    for entry in data:\n",
    "        total += float(entry)\n",
    "    return total / n\n",
    "# Takes in a data-set in the form of an array and returns the median of the data-set \n",
    "def median(data):\n",
    "    # Find the center index of the data-set\n",
    "    n = len(data)\n",
    "    center_index = n / 2\n",
    "    # If the number of values are NOT even, it returns the center value of the array\n",
    "    # else, it returns the average of the TWO center values\n",
    "    if n % 2 > 0:\n",
    "        return data[round(center_index) - 1]\n",
    "    else:\n",
    "        a = float(data[int(center_index)])\n",
    "        b = float(data[int(center_index) - 1])\n",
    "        return (a + b) / 2\n",
    "# Takes in a data-set in the form of an array and returns the mode of the data-set\n",
    "def mode(data):\n",
    "    # Use a hash(dictionary) for quickest key/value pair retrieval\n",
    "    hash_map = {}\n",
    "    highest_count = 0\n",
    "    value = None\n",
    "    # For every entry in the data-set, we check to see if that value exists in the hash,\n",
    "    # if yes, the count increases by one\n",
    "    # if no, a key is created for that value\n",
    "    for entry in data:\n",
    "        if entry in hash_map.keys():\n",
    "            hash_map[entry] += 1\n",
    "        else:\n",
    "            hash_map[entry] = 1\n",
    "        # If the count of the key is greater than the highest counted key,\n",
    "        # the highest_count and value are updated\n",
    "        if hash_map[entry] > highest_count:\n",
    "            highest_count = hash_map[entry]\n",
    "            value = entry\n",
    "    return value\n",
    "    \n",
    "if __name__ is \"__main__\":\n",
    "    main()\n",
    "\n"
   ]
  }
 ],
 "metadata": {
  "language_info": {
   "codemirror_mode": {
    "name": "ipython",
    "version": 2
   },
   "file_extension": ".py",
   "mimetype": "text/x-python",
   "name": "python",
   "nbconvert_exporter": "python",
   "pygments_lexer": "ipython2",
   "version": "2.7.6"
  },
  "kernelspec": {
   "name": "python3",
   "language": "python",
   "display_name": "Python 3"
  },
  "pycharm": {
   "stem_cell": {
    "cell_type": "raw",
    "source": [],
    "metadata": {
     "collapsed": false
    }
   }
  }
 },
 "nbformat": 4,
 "nbformat_minor": 0
}