{
 "cells": [
  {
   "cell_type": "code",
   "execution_count": 44,
   "metadata": {
    "collapsed": true,
    "pycharm": {
     "name": "#%%\n",
     "is_executing": false
    }
   },
   "outputs": [
    {
     "name": "stdout",
     "text": [
      "Values:  398\nMean:  23.5145728643216\nMedian:  23.0\nMode:  13.0\n"
     ],
     "output_type": "stream"
    }
   ],
   "source": [
    "# CentralTendency\n",
    "# Author: Richard Loveless III (RLovelessIII)\n",
    "# Description: Script to demonstrate the modes of Central Tendency\n",
    "\n",
    "def main():\n",
    "    file = open(\"../data/auto-mpg.data\", \"r\")\n",
    "    contents = file.readlines()\n",
    "    mpg = []\n",
    "    for line in contents:\n",
    "        data = line.split()\n",
    "        mpg.append(data[0])\n",
    "    mpg.sort()\n",
    "    m1 = mean(mpg)\n",
    "    m2 = median(mpg)\n",
    "    m3 = mode(mpg)\n",
    "    print(\"Values: \", len(mpg))\n",
    "    print(\"Mean: \", m1)\n",
    "    print(\"Median: \", m2)\n",
    "    print(\"Mode: \", m3)\n",
    "    file.close()\n",
    "\n",
    "def mean(data):\n",
    "    n = len(data)\n",
    "    total = 0\n",
    "    for entry in data:\n",
    "        total += float(entry)\n",
    "    return total / n\n",
    "\n",
    "def median(data):\n",
    "    n = len(data)\n",
    "    center_index = n / 2\n",
    "    if center_index % 1 > 0.0:\n",
    "        return data[round(center_index) - 1]\n",
    "    else:\n",
    "        a = float(data[int(center_index)])\n",
    "        b = float(data[int(center_index) - 1])\n",
    "        return (a + b) / 2\n",
    "    \n",
    "def mode(data):\n",
    "    hash = {}\n",
    "    highest_count = 0\n",
    "    mode = None\n",
    "    for entry in data:\n",
    "        if entry in hash.keys():\n",
    "            hash[entry] += 1\n",
    "        else:\n",
    "            hash[entry] = 1\n",
    "        if hash[entry] > highest_count:\n",
    "            highest_count = hash[entry]\n",
    "            mode = entry\n",
    "    return mode\n",
    "    \n",
    "    \n",
    "if __name__ is \"__main__\":\n",
    "    main()"
   ]
  }
 ],
 "metadata": {
  "language_info": {
   "codemirror_mode": {
    "name": "ipython",
    "version": 2
   },
   "file_extension": ".py",
   "mimetype": "text/x-python",
   "name": "python",
   "nbconvert_exporter": "python",
   "pygments_lexer": "ipython2",
   "version": "2.7.6"
  },
  "kernelspec": {
   "name": "python3",
   "language": "python",
   "display_name": "Python 3"
  },
  "pycharm": {
   "stem_cell": {
    "cell_type": "raw",
    "source": [],
    "metadata": {
     "collapsed": false
    }
   }
  }
 },
 "nbformat": 4,
 "nbformat_minor": 0
}