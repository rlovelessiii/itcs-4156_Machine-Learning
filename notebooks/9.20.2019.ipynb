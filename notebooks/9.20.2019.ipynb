{
 "cells": [
  {
   "cell_type": "code",
   "execution_count": 1,
   "metadata": {
    "collapsed": true,
    "pycharm": {
     "is_executing": false
    }
   },
   "outputs": [
    {
     "name": "stdout",
     "text": [
      "*** Introductory Examples for the NLTK Book ***\nLoading text1, ..., text9 and sent1, ..., sent9\nType the name of the text or sentence to view it.\nType: 'texts()' or 'sents()' to list the materials.\n",
      "text1: Moby Dick by Herman Melville 1851\n",
      "text2: Sense and Sensibility by Jane Austen 1811\ntext3: The Book of Genesis\n",
      "text4: Inaugural Address Corpus\n",
      "text5: Chat Corpus\ntext6: Monty Python and the Holy Grail\n",
      "text7: Wall Street Journal\ntext8: Personals Corpus\ntext9: The Man Who Was Thursday by G . K . Chesterton 1908\n"
     ],
     "output_type": "stream"
    }
   ],
   "source": [
    "import nltk\n",
    "from nltk.book import *"
   ]
  },
  {
   "cell_type": "code",
   "execution_count": 4,
   "outputs": [
    {
     "name": "stdout",
     "text": [
      "Displaying 11 of 11 matches:\nong the former , one was of a most monstrous size . ... This came towards us , \nON OF THE PSALMS . \" Touching that monstrous bulk of the whale or ork we have r\nll over with a heathenish array of monstrous clubs and spears . Some were thick\nd as you gazed , and wondered what monstrous cannibal and savage could ever hav\nthat has survived the flood ; most monstrous and most mountainous ! That Himmal\nthey might scout at Moby Dick as a monstrous fable , or still worse and more de\nth of Radney .'\" CHAPTER 55 Of the Monstrous Pictures of Whales . I shall ere l\ning Scenes . In connexion with the monstrous pictures of whales , I am strongly\nere to enter upon those still more monstrous stories of them which are to be fo\nght have been rummaged out of this monstrous cabinet there is no telling . But \nof Whale - Bones ; for Whales of a monstrous size are oftentimes cast up dead u\n"
     ],
     "output_type": "stream"
    }
   ],
   "source": [
    "text1.concordance(\"monstrous\")"
   ],
   "metadata": {
    "collapsed": false,
    "pycharm": {
     "name": "#%%\n",
     "is_executing": false
    }
   }
  },
  {
   "cell_type": "code",
   "execution_count": 6,
   "outputs": [
    {
     "name": "stdout",
     "text": [
      "Displaying 25 of 55 matches:\nondered what monstrous cannibal and savage could ever have gone a death - harv\nain that he must be some abominable savage or other shipped aboard of a whalem\no time for shuddering , for now the savage went about something that completel\nndeed it proved to be . For now the savage goes up to the empty fire - place ,\nre lay the tomahawk sleeping by the savage ' s side , as if it were a hatchet \nt then , if he had not been still a savage , he never would have dreamt of get\ncuriosity in his countenance . This savage was the only person present who see\n much interest I sat watching him . Savage though he was , and hideously marre\nt the wolfish world . This soothing savage had redeemed it . There he sat , hi\nuch distrusted ; but in this simple savage those old rules would not apply . A\nt this undulating tester rolled the savage away to far distant scenes , I know\nes never are . When a new - hatched savage running wild about his native woodl\nmself at home . But this fine young savage -- this sea Prince of Wales , never\n. Dropping his harpoon , the brawny savage caught him in his arms , and by an \n; receiving all nature ' s sweet or savage impressions fresh from her own virg\nd of moody -- desperate moody , and savage sometimes ; but that will all pass \nan extremely sensible and sagacious savage , it pained me , very badly pained \nf - war now peacefully ride in once savage harbors , let them fire salutes to \n, a gigantic , coal - black negro - savage , with a lion - like tread -- an Ah\nthe hand , Flask , fifty times more savage to bear than a blow from a cane . T\ne bigness of a grampus . He is very savage -- a sort of Feegee fish . He somet\nERINE PORPOISE ).-- A pirate . Very savage . He is only found , I think , in t\nrson . But , doubtless , this noble savage fed strong and drank deep of the ab\n Oregon , still when he smells that savage musk , the rending , goring bison h\nto capture that notorious murderous savage Annawon , the headmost warrior of t\n"
     ],
     "output_type": "stream"
    }
   ],
   "source": [
    "text1.concordance(\"savage\")"
   ],
   "metadata": {
    "collapsed": false,
    "pycharm": {
     "name": "#%%\n",
     "is_executing": false
    }
   }
  },
  {
   "cell_type": "code",
   "execution_count": 7,
   "outputs": [
    {
     "name": "stdout",
     "text": [
      "Displaying 11 of 11 matches:\n. \" Now , Palmer , you shall see a monstrous pretty girl .\" He immediately went\nyour sister is to marry him . I am monstrous glad of it , for then I shall have\nou may tell your sister . She is a monstrous lucky girl to get him , upon my ho\nk how you will like them . Lucy is monstrous pretty , and so good humoured and \n Jennings , \" I am sure I shall be monstrous glad of Miss Marianne ' s company \n usual noisy cheerfulness , \" I am monstrous glad to see you -- sorry I could n\nt however , as it turns out , I am monstrous glad there was never any thing in \nso scornfully ! for they say he is monstrous fond of her , as well he may . I s\npossible that she should .\" \" I am monstrous glad of it . Good gracious ! I hav\nthing of the kind . So then he was monstrous happy , and talked on some time ab\ne very genteel people . He makes a monstrous deal of money , and they keep thei\n"
     ],
     "output_type": "stream"
    }
   ],
   "source": [
    "text2.concordance(\"monstrous\")"
   ],
   "metadata": {
    "collapsed": false,
    "pycharm": {
     "name": "#%%\n",
     "is_executing": false
    }
   }
  },
  {
   "cell_type": "code",
   "execution_count": 9,
   "outputs": [
    {
     "name": "stdout",
     "text": [
      "true contemptible christian abundant few part mean careful puzzled\nmystifying passing curious loving wise doleful gamesome singular\ndelightfully perilous fearless\n"
     ],
     "output_type": "stream"
    }
   ],
   "source": [
    "text1.similar(\"monstrous\")"
   ],
   "metadata": {
    "collapsed": false,
    "pycharm": {
     "name": "#%%\n",
     "is_executing": false
    }
   }
  },
  {
   "cell_type": "code",
   "execution_count": 11,
   "outputs": [
    {
     "name": "stdout",
     "text": [
      "very so exceedingly heartily a as good great extremely remarkably\nsweet vast amazingly\n"
     ],
     "output_type": "stream"
    }
   ],
   "source": [
    "text2.similar(\"monstrous\")"
   ],
   "metadata": {
    "collapsed": false,
    "pycharm": {
     "name": "#%%\n",
     "is_executing": false
    }
   }
  },
  {
   "cell_type": "code",
   "execution_count": 13,
   "outputs": [
    {
     "name": "stdout",
     "text": [
      "a_pretty am_glad a_lucky is_pretty be_glad\n"
     ],
     "output_type": "stream"
    }
   ],
   "source": [
    "text2.common_contexts([\"monstrous\", \"very\"])"
   ],
   "metadata": {
    "collapsed": false,
    "pycharm": {
     "name": "#%%\n",
     "is_executing": false
    }
   }
  },
  {
   "cell_type": "code",
   "execution_count": 15,
   "outputs": [],
   "source": [
    "import matplotlib as mpl"
   ],
   "metadata": {
    "collapsed": false,
    "pycharm": {
     "name": "#%%\n",
     "is_executing": false
    }
   }
  },
  {
   "cell_type": "code",
   "execution_count": 18,
   "outputs": [
    {
     "data": {
      "text/plain": "<Figure size 432x288 with 1 Axes>",
      "image/png": "[encoded data removed]"
     },
     "metadata": {
      "needs_background": "light"
     },
     "output_type": "display_data"
    }
   ],
   "source": [
    "text4.dispersion_plot([\"citizens\", \"democracy\", \"freedom\", \"duties\"])"
   ],
   "metadata": {
    "collapsed": false,
    "pycharm": {
     "name": "#%%\n",
     "is_executing": false
    }
   }
  },
  {
   "cell_type": "code",
   "execution_count": 21,
   "outputs": [
    {
     "data": {
      "text/plain": "260819"
     },
     "metadata": {},
     "output_type": "execute_result",
     "execution_count": 21
    }
   ],
   "source": [
    "len(text1)"
   ],
   "metadata": {
    "collapsed": false,
    "pycharm": {
     "name": "#%%\n",
     "is_executing": false
    }
   }
  },
  {
   "cell_type": "code",
   "execution_count": 23,
   "outputs": [
    {
     "data": {
      "text/plain": "141576"
     },
     "metadata": {},
     "output_type": "execute_result",
     "execution_count": 23
    }
   ],
   "source": [
    "len(text2)"
   ],
   "metadata": {
    "collapsed": false,
    "pycharm": {
     "name": "#%%\n",
     "is_executing": false
    }
   }
  },
  {
   "cell_type": "code",
   "execution_count": 25,
   "outputs": [
    {
     "data": {
      "text/plain": "['!',\n '!\"',\n '!\"--',\n \"!'\",\n '!\\'\"',\n '!)',\n '!)\"',\n '!*',\n '!--',\n '!--\"',\n \"!--'\",\n '\"',\n '\"\\'',\n '\"--',\n '\"...',\n '\";',\n '$',\n '&',\n \"'\",\n \"',\",\n \"',--\",\n \"'-\",\n \"'--\",\n \"';\",\n '(',\n ')',\n '),',\n ')--',\n ').',\n ').--',\n '):',\n ');',\n ');--',\n '*',\n ',',\n ',\"',\n ',\"--',\n \",'\",\n \",'--\",\n ',)',\n ',*',\n ',--',\n ',--\"',\n \",--'\",\n '-',\n '--',\n '--\"',\n \"--'\",\n '--\\'\"',\n '--(',\n '---\"',\n '---,',\n '.',\n '.\"',\n '.\"*',\n '.\"--',\n \".'\",\n '.\\'\"',\n '.)',\n '.*',\n '.*--',\n '.,',\n '.--',\n '.--\"',\n '...',\n '....',\n '.]',\n '000',\n '1',\n '10',\n '100',\n '101',\n '102',\n '103',\n '104',\n '105',\n '106',\n '107',\n '108',\n '109',\n '11',\n '110',\n '111',\n '112',\n '113',\n '114',\n '115',\n '116',\n '117',\n '118',\n '119',\n '12',\n '120',\n '121',\n '122',\n '123',\n '124',\n '125',\n '126',\n '127',\n '128',\n '129',\n '13',\n '130',\n '131',\n '132',\n '133',\n '134',\n '135',\n '14',\n '144',\n '1492',\n '15',\n '150',\n '15th',\n '16',\n '1652',\n '1668',\n '1671',\n '1690',\n '1695',\n '16th',\n '17',\n '1726',\n '1729',\n '1750',\n '1772',\n '1775',\n '1776',\n '1778',\n '1779',\n '1788',\n '1791',\n '1793',\n '18',\n '180',\n '1807',\n '1819',\n '1820',\n '1821',\n '1825',\n '1828',\n '1833',\n '1836',\n '1839',\n '1840',\n '1842',\n '1846',\n '1850',\n '1851',\n '19',\n '1ST',\n '1st',\n '2',\n '20',\n '2000',\n '200th',\n '21',\n '21st',\n '22',\n '23',\n '24',\n '25',\n '26',\n '27',\n '275th',\n '28',\n '29',\n '2ND',\n '3',\n '30',\n '31',\n '31st',\n '32',\n '33',\n '34',\n '35',\n '36',\n '37',\n '38',\n '39',\n '3D',\n '3d',\n '4',\n '40',\n '400',\n '41',\n '42',\n '43',\n '44',\n '440',\n '45',\n '46',\n '47',\n '48',\n '49',\n '4TH',\n '5',\n '50',\n '500',\n '51',\n '52',\n '53',\n '54',\n '55',\n '550',\n '56',\n '57',\n '58',\n '59',\n '5TH',\n '6',\n '60',\n '61',\n '62',\n '63',\n '64',\n '65',\n '66',\n '67',\n '68',\n '69',\n '7',\n '70',\n '71',\n '72',\n '73',\n '74',\n '75',\n '76',\n '77',\n '78',\n '79',\n '8',\n '80',\n '800',\n '81',\n '82',\n '83',\n '84',\n '85',\n '86',\n '87',\n '88',\n '89',\n '890',\n '9',\n '90',\n '91',\n '92',\n '93',\n '94',\n '95',\n '96',\n '97',\n '98',\n '99',\n ':',\n ':\"-',\n ':--',\n ':--\"',\n \":--'\",\n ';',\n ';\"',\n ';\"--',\n ';\"--(',\n \";'\",\n ';*',\n ';--',\n ';--\"',\n \";--'\",\n '?',\n '?\"',\n '?\"--',\n \"?'\",\n \"?'--'\",\n '?--',\n '?--\"',\n \"?--'\",\n 'A',\n 'ABOUT',\n 'ACCOUNT',\n 'ADDITIONAL',\n 'ADVANCING',\n 'ADVENTURES',\n 'AFFGHANISTAN',\n 'AFRICA',\n 'AFTER',\n 'AGAINST',\n 'AHAB',\n 'ALFRED',\n 'ALGERINE',\n 'ALIVE',\n 'ALL',\n 'ALONE',\n 'AM',\n 'AMERICA',\n 'AMONG',\n 'ANCHORS',\n 'AND',\n 'ANGLO',\n 'ANIMAL',\n 'ANNALS',\n 'ANNUS',\n 'ANOTHER',\n 'ANY',\n 'APOLOGY',\n 'APPLICATION',\n 'APPROACHING',\n 'ARCTIC',\n 'ARE',\n 'AROUND',\n 'AS',\n 'ASCENDING',\n 'ASIA',\n 'ASIDE',\n 'ASPECT',\n 'AT',\n 'ATTACK',\n 'ATTACKED',\n 'ATTITUDES',\n 'AUGUST',\n 'AUTHOR',\n 'AZORE',\n 'Abashed',\n 'Abednego',\n 'Abel',\n 'Abjectus',\n 'Aboard',\n 'Abominable',\n 'About',\n 'Above',\n 'Abraham',\n 'Academy',\n 'Accessory',\n 'According',\n 'Accordingly',\n 'Accursed',\n 'Achilles',\n 'Actium',\n 'Acushnet',\n 'Adam',\n 'Adieu',\n 'Adios',\n 'Admiral',\n 'Admirals',\n 'Advance',\n 'Advancement',\n 'Adventures',\n 'Adverse',\n 'Advocate',\n 'Affected',\n 'Affidavit',\n 'Affrighted',\n 'Afric',\n 'Africa',\n 'African',\n 'Africans',\n 'Aft',\n 'After',\n 'Afterwards',\n 'Again',\n 'Against',\n 'Agassiz',\n 'Ages',\n 'Ah',\n 'Ahab',\n 'Ahabs',\n 'Ahasuerus',\n 'Ahaz',\n 'Ahoy',\n 'Ain',\n 'Air',\n 'Akin',\n 'Alabama',\n 'Aladdin',\n 'Alarmed',\n 'Alas',\n 'Albatross',\n 'Albemarle',\n 'Albert',\n 'Albicore',\n 'Albino',\n 'Aldrovandi',\n 'Aldrovandus',\n 'Alexander',\n 'Alexanders',\n 'Alfred',\n 'Algerine',\n 'Algiers',\n 'Alike',\n 'Alive',\n 'All',\n 'Alleghanian',\n 'Alleghanies',\n 'Alley',\n 'Almanack',\n 'Almighty',\n 'Almost',\n 'Aloft',\n 'Alone',\n 'Alps',\n 'Already',\n 'Also',\n 'Am',\n 'Ambergriese',\n 'Ambergris',\n 'Amelia',\n 'America',\n 'American',\n 'Americans',\n 'Americas',\n 'Amittai',\n 'Among',\n 'Amsterdam',\n 'An',\n 'Anacharsis',\n 'Anak',\n 'Anatomist',\n 'And',\n 'Andes',\n 'Andrew',\n 'Andromeda',\n 'Angel',\n 'Angelo',\n 'Angels',\n 'Animated',\n 'Annawon',\n 'Anne',\n 'Anno',\n 'Anomalous',\n 'Another',\n 'Answer',\n 'Antarctic',\n 'Antilles',\n 'Antiochus',\n 'Antony',\n 'Antwerp',\n 'Anvil',\n 'Any',\n 'Anyhow',\n 'Anything',\n 'Anyway',\n 'Apollo',\n 'Apoplexy',\n 'Applied',\n 'Apply',\n 'April',\n 'Aquarius',\n 'Arch',\n 'Archbishop',\n 'Arched',\n 'Archer',\n 'Archipelagoes',\n 'Archy',\n 'Arctic',\n 'Are',\n 'Arethusa',\n 'Argo',\n 'Aries',\n 'Arion',\n 'Aristotle',\n 'Ark',\n 'Arkansas',\n 'Arkite',\n 'Arm',\n 'Armada',\n 'Arnold',\n 'Aroostook',\n 'Around',\n 'Arrayed',\n 'Arrived',\n 'Arsacidean',\n 'Arsacides',\n 'Art',\n 'Artedi',\n 'Arter',\n 'Articles',\n 'As',\n 'Asa',\n 'Ashantee',\n 'Ashore',\n 'Asia',\n 'Asiatic',\n 'Asiatics',\n 'Aside',\n 'Asphaltites',\n 'Assaulted',\n 'Assume',\n 'Assuming',\n 'Assuredly',\n 'Assyrian',\n 'Astern',\n 'Astir',\n 'Astronomy',\n 'At',\n 'Atlantic',\n 'Atlantics',\n 'Attached',\n 'Attend',\n 'August',\n 'Aunt',\n 'Australia',\n 'Australian',\n 'Austrian',\n 'Author',\n 'Authors',\n 'Auto',\n 'Availing',\n 'Avast',\n 'Avatar',\n 'Aware',\n 'Away',\n 'Awful',\n 'Ay',\n 'Aye',\n 'Azores',\n 'BACK',\n 'BACKED',\n 'BACON',\n 'BALEINE',\n 'BALLENA',\n 'BANKS',\n 'BARON',\n 'BATTLE',\n 'BE',\n 'BEALE',\n 'BEFORE',\n 'BEING',\n 'BELFAST',\n 'BELOW',\n 'BENCH',\n 'BENNETT',\n 'BERMUDAS',\n 'BETWEEN',\n 'BEWARE',\n 'BIOGRAPHY',\n 'BIT',\n 'BLACK',\n 'BLACKSMITH',\n 'BLACKSTONE',\n 'BLOOD',\n 'BLOODY',\n 'BLOWS',\n 'BOARD',\n 'BOAT',\n 'BOATS',\n 'BOOK',\n 'BOOKS',\n 'BOSOM',\n 'BOTTOM',\n 'BOUTON',\n 'BRACE',\n 'BRACTON',\n 'BREACH',\n 'BREAKERS',\n 'BREAKWATER',\n 'BRIT',\n 'BROKE',\n 'BROTHER',\n 'BROWN',\n 'BROWNE',\n 'BURKE',\n 'BURST',\n 'BUSILY',\n 'BY',\n 'Babel',\n 'Babylon',\n 'Babylonian',\n 'Bachelor',\n 'Back',\n 'Backs',\n 'Bad',\n 'Baden',\n 'Bag',\n 'Balaene',\n 'Baliene',\n 'Baling',\n 'Bally',\n 'Baltic',\n 'Baltimore',\n 'Bamboo',\n 'Bang',\n 'Banks',\n 'Barbary',\n 'Bare',\n 'Bargain',\n 'Baron',\n 'Barrens',\n 'Bartholomew',\n 'Base',\n 'Bashaw',\n 'Bashee',\n 'Basilosaurus',\n 'Bastille',\n 'Battering',\n 'Battery',\n 'Bay',\n 'Bays',\n 'Be',\n 'Beach',\n 'Beale',\n 'Beams',\n 'Bear',\n 'Bears',\n 'Beat',\n 'Because',\n 'Becket',\n 'Bedford',\n 'Beelzebub',\n 'Befooled',\n 'Before',\n 'Begone',\n 'Behold',\n 'Behring',\n 'Being',\n 'Belated',\n 'Belial',\n 'Believe',\n 'Belisarius',\n 'Bell',\n 'Bellies',\n 'Beloved',\n 'Below',\n 'Belshazzar',\n 'Belubed',\n 'Bench',\n 'Bendigoes',\n 'Beneath',\n 'Bengal',\n 'Benjamin',\n 'Bennett',\n 'Bentham',\n 'Berkshire',\n 'Berlin',\n 'Bernard',\n 'Besides',\n 'Bess',\n 'Best',\n 'Bestow',\n 'Bethink',\n 'Better',\n 'Betty',\n 'Between',\n 'Beware',\n 'Beyond',\n 'Bible',\n 'Bibles',\n 'Bibliographical',\n 'Bildad',\n 'Biographical',\n 'Birmah',\n 'Bishop',\n 'Bite',\n 'Black',\n 'Blacksmith',\n 'Blackstone',\n 'Blanc',\n 'Blanche',\n 'Blanco',\n 'Blang',\n 'Blanket',\n 'Blast',\n 'Bless',\n 'Blind',\n 'Blinding',\n 'Blocksburg',\n 'Blood',\n 'Bloody',\n 'Blue',\n 'Boat',\n 'Boats',\n 'Bobbing',\n 'Bolivia',\n 'Bombay',\n 'Bonapartes',\n 'Bone',\n 'Bones',\n 'Bonneterre',\n 'Booble',\n 'Book',\n 'Boomer',\n 'Boone',\n 'Bordeaux',\n 'Borean',\n 'Born',\n 'Borneo',\n 'Bosom',\n 'Boston',\n 'Both',\n 'Bottle',\n 'Bottom',\n 'Bourbons',\n 'Bout',\n 'Bouton',\n 'Bowditch',\n 'Bower',\n 'Boy',\n 'Boys',\n 'Brace',\n 'Brahma',\n 'Brahmins',\n 'Brandreth',\n 'Brazil',\n 'Breakfast',\n 'Bremen',\n 'Bress',\n 'Bridge',\n 'Brighggians',\n 'Bright',\n 'Bring',\n 'Brisson',\n 'Brit',\n 'Britain',\n 'British',\n 'Britons',\n 'Broad',\n 'Broadway',\n 'Broke',\n 'Brother',\n 'Browne',\n 'Brute',\n 'Buckets',\n 'Bud',\n 'Buffalo',\n 'Bulkington',\n 'Bull',\n 'Bulwarks',\n 'Bunger',\n 'Bungle',\n 'Bunyan',\n 'Buoy',\n 'Buoyed',\n 'Burke',\n 'Burkes',\n 'Burst',\n 'Burton',\n 'Burtons',\n 'Business',\n 'But',\n 'Butchers',\n 'Butler',\n 'By',\n 'Byward',\n 'C',\n 'CABIN',\n 'CABINET',\n 'CANNY',\n 'CAP',\n 'CAPTAIN',\n 'CAPTAINS',\n 'CAPTORS',\n 'CARPENTER',\n 'CATCHES',\n 'CAULKING',\n 'CEASE',\n 'CETI',\n 'CETUS',\n 'CHACE',\n 'CHAPTER',\n 'CHAPTERS',\n 'CHARLES',\n 'CHEERLY',\n 'CHEEVER',\n 'CHIEF',\n 'CHINA',\n 'CHOP',\n 'CHORUS',\n 'CHRONICLER',\n 'CIRCUMNAVIGATION',\n 'CLEAN',\n 'CLOSES',\n 'CLUSTERS',\n 'COFFIN',\n 'COILS',\n 'COLEMAN',\n 'COLL',\n 'COLNETT',\n 'COMES',\n 'COMMERCIAL',\n 'COMMODORE',\n 'COMSTOCK',\n 'CONTESTED',\n 'CONTINUES',\n 'CONVERSATIONS',\n 'COOK',\n 'COOPER',\n 'COWLEY',\n 'COWPER',\n 'CREWS',\n 'CROW',\n 'CRUISE',\n 'CRUISING',\n 'CRUIZE',\n 'CURRENTS',\n 'CUVIER',\n 'Cabaco',\n 'Cabin',\n 'Cachalot',\n 'Cadiz',\n 'Caesar',\n 'Caesarian',\n 'Cain',\n 'Calais',\n 'Californian',\n 'Call',\n 'Callao',\n 'Cambyses',\n 'Camel',\n 'Campagna',\n 'Can',\n 'Canaan',\n 'Canada',\n 'Canadian',\n 'Canal',\n 'Canaller',\n 'Canallers',\n 'Canals',\n 'Canaris',\n 'Cancer',\n 'Candles',\n 'Cannibal',\n 'Cannibals',\n 'Cannon',\n 'Canst',\n 'Cant',\n 'Canterbury',\n 'Cap',\n 'Cape',\n 'Capes',\n 'Capricornus',\n 'Captain',\n 'Captains',\n 'Capting',\n 'Caramba',\n 'Careful',\n 'Carefully',\n 'Carey',\n 'Carpenter',\n 'Carpet',\n 'Carrol',\n 'Carson',\n 'Carthage',\n 'Caryatid',\n 'Case',\n 'Cash',\n 'Cassock',\n 'Castaway',\n 'Castle',\n 'Categut',\n 'Cathedral',\n 'Catholic',\n 'Cato',\n 'Catskill',\n 'Cattegat',\n 'Caught',\n 'Cave',\n 'Caw',\n 'Cellini',\n 'Central',\n 'Certain',\n 'Certainly',\n 'Cervantes',\n 'Cetacea',\n 'Cetacean',\n 'Cetology',\n 'Cetus',\n 'Ceylon',\n 'Chace',\n 'Chaldee',\n 'Champagne',\n 'Champollion',\n 'Channel',\n 'Chapel',\n 'Charing',\n 'Charity',\n 'Charlemagne',\n 'Charley',\n 'Chart',\n 'Chartering',\n 'Chase',\n 'Cheever',\n 'Cherries',\n 'Chestnut',\n 'Chief',\n 'Childe',\n 'Chili',\n 'Chilian',\n 'China',\n 'Chinese',\n 'Cholo',\n 'Chowder',\n 'Christ',\n 'Christendom',\n 'Christian',\n 'Christianity',\n 'Christians',\n 'Christmas',\n 'Church',\n 'Cinque',\n 'Circassian',\n 'Circumambulate',\n 'Cistern',\n 'Civitas',\n 'Clam',\n 'Clap',\n 'Claus',\n 'Clay',\n 'Clear',\n 'Clearing',\n 'Cleopatra',\n 'Cleveland',\n 'Clifford',\n 'Clinging',\n 'Clootz',\n 'Close',\n 'Closing',\n 'Cloud',\n 'Cluny',\n 'Coast',\n 'Cock',\n 'Cockatoo',\n 'Cod',\n 'Cods',\n 'Coenties',\n 'Coffin',\n 'Coffins',\n 'Cognac',\n 'Coke',\n 'Cold',\n 'Coleman',\n 'Coleridge',\n 'College',\n 'Colnett',\n 'Cologne',\n 'Colonies',\n 'Colossus',\n 'Columbus',\n 'Come',\n 'Coming',\n 'Commanded',\n 'Commanders',\n 'Commend',\n 'Commodore',\n 'Commodores',\n 'Common',\n 'Commonly',\n 'Commons',\n 'Commonwealth',\n 'Companies',\n 'Comparing',\n 'Concerning',\n 'Congo',\n 'Congregation',\n 'Congregational',\n 'Conjuror',\n 'Connecticut',\n 'Consequently',\n 'Consider',\n 'Considering',\n 'Constable',\n 'Constantine',\n 'Constantinople',\n 'Consumptive',\n 'Continents',\n 'Contrasted',\n 'Conversation',\n 'Convulsively',\n 'Cook',\n 'Cooke',\n 'Cooks',\n 'Cooper',\n 'Coopman',\n 'Copenhagen',\n 'Coppered',\n 'Corinthians',\n 'Corkscrew',\n 'Corlaer',\n 'Corlears',\n 'Coronation',\n 'Corresponding',\n 'Corrupt',\n 'Cough',\n 'Could',\n 'Count',\n 'Counterpane',\n 'County',\n 'Court',\n 'Cousin',\n 'Cowper',\n 'Crab',\n 'Crack',\n 'Crammer',\n 'Crappo',\n 'Crappoes',\n 'Crazed',\n 'Creagh',\n 'Created',\n 'Cretan',\n 'Crete',\n ...]"
     },
     "metadata": {},
     "output_type": "execute_result",
     "execution_count": 25
    }
   ],
   "source": [
    "sorted(set(text1))"
   ],
   "metadata": {
    "collapsed": false,
    "pycharm": {
     "name": "#%%\n",
     "is_executing": false
    }
   }
  },
  {
   "cell_type": "code",
   "execution_count": 28,
   "outputs": [],
   "source": [
    "fdist1 = FreqDist(text1)"
   ],
   "metadata": {
    "collapsed": false,
    "pycharm": {
     "name": "#%%\n",
     "is_executing": false
    }
   }
  },
  {
   "cell_type": "code",
   "execution_count": 30,
   "outputs": [
    {
     "data": {
      "text/plain": "FreqDist({',': 18713, 'the': 13721, '.': 6862, 'of': 6536, 'and': 6024, 'a': 4569, 'to': 4542, ';': 4072, 'in': 3916, 'that': 2982, ...})"
     },
     "metadata": {},
     "output_type": "execute_result",
     "execution_count": 30
    }
   ],
   "source": [
    "fdist1"
   ],
   "metadata": {
    "collapsed": false,
    "pycharm": {
     "name": "#%%\n",
     "is_executing": false
    }
   }
  },
  {
   "cell_type": "code",
   "execution_count": 32,
   "outputs": [],
   "source": [
    "fdist2 = FreqDist(text2)"
   ],
   "metadata": {
    "collapsed": false,
    "pycharm": {
     "name": "#%%\n",
     "is_executing": false
    }
   }
  },
  {
   "cell_type": "code",
   "execution_count": 34,
   "outputs": [
    {
     "data": {
      "text/plain": "FreqDist({',': 9397, 'to': 4063, '.': 3975, 'the': 3861, 'of': 3565, 'and': 3350, 'her': 2436, 'a': 2043, 'I': 2004, 'in': 1904, ...})"
     },
     "metadata": {},
     "output_type": "execute_result",
     "execution_count": 34
    }
   ],
   "source": [
    "fdist2"
   ],
   "metadata": {
    "collapsed": false,
    "pycharm": {
     "name": "#%%\n",
     "is_executing": false
    }
   }
  },
  {
   "cell_type": "code",
   "execution_count": 36,
   "outputs": [],
   "source": [
    "V = set(text1)"
   ],
   "metadata": {
    "collapsed": false,
    "pycharm": {
     "name": "#%%\n",
     "is_executing": false
    }
   }
  },
  {
   "cell_type": "code",
   "execution_count": 38,
   "outputs": [
    {
     "data": {
      "text/plain": "{'Bonneterre',\n 'exasperating',\n 'bulkhead',\n 'smack',\n 'watered',\n 'worn',\n 'Gallipagos',\n 'sepulchral',\n 'Hercules',\n 'Smeerenberg',\n 'Walks',\n 'rifled',\n 'gums',\n 'companions',\n 'observed',\n 'pomatum',\n 'backwardly',\n 'patentee',\n 'seizing',\n 'pious',\n 'Rock',\n 'Twins',\n 'degrees',\n 'genial',\n 'pamphlets',\n 'smile',\n 'shank',\n 'redness',\n 'subject',\n 'cautiousness',\n 'creatures',\n 'replenished',\n 'electric',\n 'boards',\n 'odious',\n 'polite',\n 'Pillar',\n 'its',\n 'wade',\n 'wrist',\n 'cramped',\n 'unprofitable',\n 'mystery',\n 'all',\n 'BEALE',\n 'support',\n 'Killer',\n 'periodicalness',\n 'e',\n 'ostensible',\n 'platters',\n 'dramatist',\n 'quarrel',\n 'DISSECTION',\n 'limber',\n 'pitted',\n 'afore',\n 'soak',\n 'crept',\n 'Paul',\n 'diver',\n 'diluted',\n 'goney',\n 'protected',\n 'ME',\n 'Azores',\n 'venting',\n 'players',\n 'Equatorial',\n 'bloody',\n 'Baden',\n 'sinks',\n 'promptly',\n 'pressure',\n 'paved',\n 'creativeness',\n 'cries',\n 'churned',\n 'caravan',\n 'corkscrew',\n 'billows',\n 'succeeded',\n 'lightly',\n 'mouthfuls',\n 'bite',\n 'rebut',\n 'TOOLS',\n 'landscapes',\n 'corpusants',\n 'From',\n 'cabalistics',\n 'arc',\n 'crested',\n 'portrait',\n 'countersinking',\n 'handfuls',\n 'unctuous',\n 'forefinger',\n 'crouch',\n 'rituals',\n 'thieves',\n 'inward',\n 'chat',\n 'rocky',\n 'downcast',\n 'flutterings',\n 'feminine',\n 'allurings',\n 'transom',\n 'completing',\n 'lesson',\n 'preferred',\n 'impious',\n 'swift',\n 'banquet',\n 'anatomical',\n 'outlaws',\n 'Affrighted',\n 'agile',\n 'feathering',\n '[',\n 'ferocious',\n 'raved',\n 'finest',\n 'manned',\n 'code',\n 'rank',\n 'rickety',\n 'Him',\n 'crookedly',\n 'put',\n 'Vermonters',\n 'NEW',\n 'twilights',\n 'overrun',\n 'wreak',\n 'ankers',\n 'equipped',\n 'habitual',\n 'cursing',\n 'Latin',\n 'holier',\n 'sister',\n 'Folding',\n 'slanderin',\n 'confiding',\n 'circumspection',\n 'popularly',\n 'chassee',\n 'massacre',\n 'lesser',\n 'righted',\n 'agony',\n 'skewers',\n 'swimmer',\n 'Signals',\n 'dragon',\n 'overlooking',\n 'interlacings',\n 'fuddled',\n 'baked',\n 'counterpart',\n 'ruddy',\n 'commonalty',\n 'Clear',\n 'retribution',\n 'Days',\n 'unintermitted',\n 'candid',\n 'imparts',\n 'poop',\n 'sucklings',\n 'infantileness',\n 'Doubts',\n 'hardest',\n 'risings',\n 'wherewith',\n 'infliction',\n 'widely',\n 'Duodecimoes',\n 'mentions',\n 'ADDITIONAL',\n 'migratory',\n 'overgrowth',\n 'assertion',\n 'chimneys',\n 'gardenny',\n 'knocks',\n 'horrified',\n 'pulverize',\n 'price',\n 'settling',\n 'statutory',\n 'sweetness',\n 'missed',\n 'fears',\n 'diddled',\n 'liturgies',\n 'pasture',\n 'distinctive',\n 'tiny',\n 'dilating',\n 'sherbet',\n '63',\n 'flourishin',\n 'interflowing',\n 'persecutor',\n 'vesture',\n 'hammering',\n 'pond',\n 'Eddystone',\n 'maimed',\n 'Struck',\n 'entangled',\n 'WHITE',\n 'holes',\n 'helped',\n 'beliefs',\n 'microscopic',\n 'hain',\n 'viewing',\n 'whaleman',\n 'unfolding',\n ';--\"',\n 'civilized',\n 'Horatii',\n 'soused',\n 'proud',\n 'hospitable',\n 'perusal',\n 'landscape',\n 'escape',\n 'bier',\n 'dint',\n 'limped',\n 'count',\n 'nonce',\n 'erecting',\n 'overflowed',\n 'eminence',\n 'QUARTER',\n 'sleepiest',\n 'gesture',\n 'activity',\n 'storm',\n 'HOMEWARD',\n 'chuckled',\n 'whose',\n 'nevertheless',\n 'warned',\n 'orlop',\n 'vivifying',\n 'paternal',\n '130',\n 'Under',\n 'residuary',\n 'collectedness',\n 'myrrh',\n 'heed',\n 'diabolically',\n 'unload',\n 'prayed',\n 'ROSE',\n 'boa',\n 'politely',\n 'jail',\n 'punctilious',\n 'hearers',\n 'drop',\n 'surf',\n 'fundamental',\n 'Colonies',\n 'deathful',\n 'SAILORS',\n 'fort',\n 'disks',\n 'childlessness',\n 'ICELANDIC',\n 'joosy',\n 'immutably',\n 'intrantem',\n 'parent',\n 'swings',\n 'possessing',\n 'festoon',\n 'denunciations',\n 'add',\n 'Sal',\n 'unappeasedly',\n 'suspicions',\n 'premium',\n 'claps',\n 'interpret',\n 'gate',\n 'spies',\n 'rains',\n 'dim',\n 'let',\n 'visible',\n 'unapprehensive',\n 'specific',\n 'anatomy',\n 'potent',\n 'responses',\n 'George',\n 'health',\n 'oaks',\n 'Therein',\n 'woe',\n 'fetches',\n 'forebodings',\n 'Sagittarius',\n 'now',\n 'relieved',\n 'radiating',\n 'negatively',\n 'Mistress',\n 'copied',\n 'begrimed',\n 'imputed',\n 'Tertiary',\n 'core',\n 'subserve',\n 'hap',\n 'expatiate',\n 'strands',\n 'Tish',\n 'envied',\n 'AND',\n 'exasperations',\n 'bustle',\n 'daily',\n 'masterly',\n 'signifying',\n 'quits',\n 'repeating',\n 'snatching',\n ';\"--(',\n 'swelled',\n 'mislead',\n 'audacity',\n 'purest',\n 'plague',\n 'virtue',\n 'latitudes',\n 'harpoons',\n 'missent',\n 'coolness',\n 'seniors',\n 'mortar',\n 'educated',\n 'startlingly',\n 'navigator',\n 'wan',\n 'soles',\n 'deserved',\n 'affirmative',\n 'groom',\n 'Atlantics',\n 'hopped',\n 'decency',\n 'progeny',\n 'slightest',\n 'bounded',\n 'obtruding',\n 'ah',\n 'disengaged',\n 'filliping',\n 'Olmstead',\n 'bony',\n 'idolator',\n 'TRUE',\n 'durable',\n 'sliding',\n 'carriages',\n 'jeering',\n 'Anak',\n 'spectacle',\n 'unalloyed',\n 'plazza',\n '1492',\n 'Hill',\n 'supposing',\n 'neatness',\n 'Monstrous',\n 'Slack',\n 'Jenny',\n 'paper',\n 'escaped',\n 'shape',\n 'outbellying',\n 'Figuera',\n 'shifting',\n 'yielding',\n 'DANISH',\n 'unmixed',\n 'archaeologists',\n 'documents',\n 'stoutly',\n 'gains',\n 'Virtue',\n 'Give',\n 'vitiated',\n 'unfeatured',\n 'declared',\n 'unloitering',\n 'undertake',\n 'overcome',\n 'crucifixion',\n 'Skies',\n 'insomuch',\n 'confounding',\n 'Hospital',\n 'strand',\n 'immediate',\n 'swerve',\n 'pumps',\n 'cedar',\n 'Bishop',\n 'descriptively',\n 'shop',\n 'fading',\n 'symbolizings',\n 'gagged',\n 'patient',\n 'providential',\n 'follow',\n 'Anomalous',\n 'Espying',\n 'whalin',\n 'fallacious',\n 'End',\n 'frequently',\n 'Headed',\n 'exhale',\n 'AMONG',\n 'vomit',\n 'rebelling',\n 'untidy',\n 'Rattler',\n 'Earthsman',\n 'circumspectly',\n 'refrigerators',\n 'Shakespeare',\n 'overswarm',\n 'Vermont',\n 'lecherous',\n 'passer',\n 'inventing',\n 'bouncing',\n 'rumbles',\n 'considerable',\n 'Narwhale',\n 'theology',\n 'skins',\n 'unwillingness',\n 'barber',\n 'atmospheric',\n 'density',\n 'vintages',\n 'realities',\n 'riotous',\n 'ring',\n 'vagueness',\n 'jogged',\n 'House',\n 'Without',\n 'opposing',\n '180',\n 'chaotic',\n 'shortly',\n 'hacking',\n 'sermon',\n 'Outward',\n 'laugheth',\n 'exhibit',\n 'Work',\n 'robbers',\n 'proposed',\n 'ULLOA',\n 'sheeted',\n 'shrouds',\n 'contented',\n 'fainting',\n 'vigilance',\n 'assails',\n 'headsmen',\n 'tapers',\n 'universally',\n 'porch',\n 'individuality',\n 'IV',\n 'vivaciously',\n 'homeward',\n 'scaled',\n 'Armada',\n 'goest',\n 'Forehead',\n 'survey',\n 'measures',\n 'everywhere',\n 'hence',\n 'night',\n 'lamb',\n 'organizations',\n 'sieve',\n 'gloomy',\n 'delusions',\n 'tellest',\n 'cobbling',\n 'tackles',\n 'seethe',\n 'beach',\n 'thoroughly',\n 'psalmody',\n 'indecorous',\n 'PRIMER',\n 'molest',\n 'Martha',\n 'Uppermost',\n 'muffledness',\n 'statistical',\n 'punch',\n 'enumerated',\n 'lee',\n 'Cancer',\n 'elongated',\n 'worse',\n 'bitin',\n 'juices',\n 'cooking',\n 'biscuits',\n 'WHALE',\n 'leisure',\n 'exasperated',\n 'wharf',\n 'encounters',\n 'ignorance',\n 'displayed',\n 'fountain',\n 'Nantucketer',\n 'probationary',\n 'Line',\n 'rounds',\n 'sow',\n 'opinions',\n 'tiers',\n 'frame',\n 'opposition',\n 'whither',\n 'Swiss',\n 'lain',\n 'flowery',\n 'Baltimore',\n 'beverage',\n 'dromedary',\n 'dropping',\n 'eminently',\n 'Knife',\n 'gap',\n 'excel',\n 'daring',\n 'curtains',\n '79',\n 'Sideways',\n 'Unfitness',\n 'texture',\n 'cleat',\n 'Unwittingly',\n 'settle',\n 'somnambulisms',\n 'heroes',\n 'allures',\n 'LEG',\n 'nest',\n 'ports',\n 'APPLICATION',\n 'bottomless',\n 'thinkest',\n 'rollings',\n 'secure',\n 'seeing',\n 'unwarrantable',\n 'crisp',\n 'gingerly',\n 'tosses',\n 'LAY',\n 'unnearable',\n 'Brahmins',\n 'charnel',\n 'cachalot',\n 'formidable',\n 'treacherous',\n 'custom',\n 'swaths',\n 'quiescence',\n 'Senators',\n 'younger',\n 'clout',\n 'extremely',\n 'secrets',\n 'scale',\n 'disencumber',\n 'ex',\n 'foamingly',\n 'undignified',\n 'sashes',\n 'enjoy',\n 'grotesqueness',\n 'frankincense',\n 'magnetism',\n 'emoluments',\n 'tyros',\n 'humorous',\n 'freighted',\n 'abortions',\n 'bows',\n 'fastening',\n 'scarry',\n 'directly',\n 'curios',\n 'Americans',\n 'envious',\n 'prodigious',\n 'threatened',\n 'CRUISE',\n 'blazed',\n 'islands',\n 'importance',\n 'Cassock',\n 'diadem',\n 'vehicle',\n 'surveyor',\n 'thanks',\n 'prosecuted',\n 'foam',\n 'unpleasing',\n 'Mastodon',\n 'Koo',\n 'silken',\n 'mysteriously',\n 'People',\n 'coalescing',\n 'aforethought',\n 'trying',\n 'mortally',\n 'began',\n 'tipping',\n 'Surely',\n 'maker',\n 'aglow',\n 'jaw',\n 'Aye',\n 'Keel',\n 'shrivel',\n 'day',\n 'greatest',\n 'nailing',\n 'trances',\n 'pots',\n 'combing',\n 'central',\n 'equatorial',\n 'Tropic',\n 'appeared',\n 'forbidden',\n 'baptismal',\n 'endure',\n 'stalk',\n 'glances',\n 'Author',\n 'abstemious',\n 'tallest',\n 'Canst',\n 'Before',\n 'pervading',\n 'Few',\n 'CHAPTER',\n 'tensing',\n 'allude',\n 'sex',\n 'Judge',\n 'dartingly',\n 'Both',\n 'CETUS',\n 'GREENLAND',\n 'enveloping',\n 'twiske',\n 'overwhelming',\n 'sleek',\n 'blossoms',\n 'heeds',\n 'vats',\n 'chafed',\n 'tindering',\n 'cruise',\n 'honeymoon',\n 'consulted',\n 'solitary',\n 'vertically',\n 'La',\n 'SETH',\n 'tranced',\n 'unreluctantly',\n 'Davis',\n 'leaded',\n 'brush',\n 'unwarped',\n 'wooded',\n 'matched',\n 'ragamuffin',\n 'NARWHALE',\n 'interfusing',\n 'pot',\n 'entire',\n 'Beloved',\n 'repassing',\n 'controverted',\n 'keepers',\n 'eagerness',\n 'mixing',\n 'sweatings',\n 'humanities',\n 'Erie',\n 'longed',\n 'hooped',\n 'stern',\n 'imps',\n 'Threading',\n 'Originally',\n 'upbraidings',\n 'exhibition',\n 'scraps',\n 'tumults',\n 'Lion',\n 'commenced',\n 'sounding',\n 'nourished',\n 'bone',\n 'arched',\n 'dowers',\n 'bleeds',\n 'wary',\n 'upraising',\n 'sphere',\n 'Coleridge',\n 'richness',\n 'opined',\n 'LATIN',\n 'prosperous',\n 'renewed',\n 'unappalled',\n 'returning',\n 'Far',\n 'HARRIS',\n 'parade',\n 'ANIMAL',\n 'fullest',\n 'Coopman',\n 'eddied',\n 'power',\n 'calamity',\n 'suffering',\n 'momentarily',\n 'propped',\n 'splice',\n 'building',\n 'overboard',\n 'impairing',\n 'take',\n 'dreamiest',\n 'striding',\n 'SNEEZES',\n 'meadow',\n 'illuminating',\n 'disappeared',\n 'hurry',\n 'thistles',\n 'transferring',\n 'shoulders',\n 'Beyond',\n 'league',\n 'Bare',\n 'lightest',\n 'bowels',\n 'elderly',\n 'shore',\n 'triangular',\n 'leaner',\n 'dribbles',\n 'scrolls',\n 'deceived',\n 'painted',\n 'remark',\n 'surpassingly',\n 'mixes',\n 'several',\n 'leviathan',\n 'Sweet',\n 'analogous',\n 'indiscretions',\n 'wise',\n 'heeding',\n 'decanting',\n 'Next',\n 'outran',\n 'regale',\n 'lava',\n 'jacks',\n 'GRAND',\n 'gullies',\n 'insulting',\n 'tingles',\n 'coffee',\n 'dignified',\n 'celebrated',\n 'invests',\n 'horrid',\n 'person',\n 'privations',\n 'prating',\n 'confinement',\n 'Loose',\n 'interferes',\n 'weariness',\n 'plumes',\n 'mark',\n 'moreover',\n 'Already',\n 'boys',\n 'tightened',\n 'signals',\n 'knit',\n 'straining',\n 'undeterred',\n 'tempest',\n 'roundingly',\n 'commandingly',\n 'wiping',\n 'drawled',\n 'collared',\n 'fertility',\n 'clings',\n 'desks',\n 'joyfully',\n 'grizzly',\n 'brandy',\n 'tribes',\n 'tun',\n '115',\n 'trained',\n 'conversed',\n 'Terrors',\n 'rob',\n 'acquainted',\n 'forward',\n 'battles',\n 'veil',\n 'affluent',\n 'TAHITAN',\n 'ascribed',\n 'compactness',\n 'unwaning',\n 'sharing',\n 'CLOSES',\n 'movements',\n 'religious',\n 'hoisters',\n 'magnitude',\n 'monsters',\n 'discover',\n 'easiest',\n 'weakly',\n 'slewed',\n 'Ray',\n 'vales',\n 'palms',\n 'workmanlike',\n 'cobs',\n 'passes',\n 'bodies',\n 'Trade',\n 'Samuel',\n 'nautical',\n 'barred',\n 'selecting',\n 'clenched',\n 'dust',\n 'sweetly',\n 'Wave',\n 'boozy',\n 'perfume',\n 'please',\n 'shirt',\n 'telling',\n 'dogs',\n 'going',\n 'fate',\n 'screamed',\n 'supported',\n 'monkey',\n 'shipkeepers',\n 'surplus',\n 'travellers',\n 'reappearance',\n 'demonisms',\n 'dollars',\n 'appallingly',\n 'measure',\n 'pig',\n 'loosening',\n 'obviously',\n 'PLINY',\n 'landsmen',\n 'mariner',\n 'problematical',\n 'helmeted',\n 'Fin',\n 'remote',\n 'fell',\n 'dressing',\n 'HANDS',\n 'prate',\n 'provocation',\n 'recall',\n 'Holy',\n 'brit',\n 'sellin',\n 'infixed',\n 'shoe',\n 'potency',\n 'explanatory',\n 'posterity',\n 'afternoon',\n 'Gather',\n 'ladder',\n 'totality',\n 'Only',\n 'hospitalities',\n 'Povelson',\n 'illuminate',\n 'precipitating',\n 'catarrhs',\n 'Weep',\n 'board',\n 'clinch',\n 'listen',\n 'oaths',\n 'perfect',\n 'Sulphur',\n 'REQUIEM',\n 'vibrated',\n 'suddenly',\n 'River',\n 'plungingly',\n 'foreboding',\n 'handled',\n 'surging',\n 'Many',\n 'thunderings',\n 'revealing',\n 'fanatics',\n 'rear',\n 'heard',\n 'stunsail',\n 'leans',\n 'teats',\n 'desolation',\n 'Kedron',\n 'disbelief',\n 'capacity',\n 'calamities',\n 'periods',\n 'rag',\n 'Is',\n 'cerebellum',\n 'tranquillize',\n 'precedence',\n 'Lord',\n 'marring',\n 'parchingly',\n 'seekest',\n 'warfare',\n 'mincing',\n 'fighting',\n 'sweeps',\n 'label',\n 'invaders',\n 'Canterbury',\n 'absence',\n 'bodily',\n 'Akin',\n 'archangelic',\n 'poser',\n 'Panting',\n 'rumbled',\n 'judgment',\n 'JEFFERSON',\n 'seasoned',\n 'impenetrable',\n ...}"
     },
     "metadata": {},
     "output_type": "execute_result",
     "execution_count": 38
    }
   ],
   "source": [
    "V"
   ],
   "metadata": {
    "collapsed": false,
    "pycharm": {
     "name": "#%%\n",
     "is_executing": false
    }
   }
  },
  {
   "cell_type": "code",
   "execution_count": 40,
   "outputs": [],
   "source": [
    "long_words = [w for w in V if len(w) > 15]"
   ],
   "metadata": {
    "collapsed": false,
    "pycharm": {
     "name": "#%%\n",
     "is_executing": false
    }
   }
  },
  {
   "cell_type": "code",
   "execution_count": 43,
   "outputs": [
    {
     "data": {
      "text/plain": "['cannibalistically',\n 'subterraneousness',\n 'comprehensiveness',\n 'apprehensiveness',\n 'Physiognomically',\n 'simultaneousness',\n 'uncompromisedness',\n 'circumnavigating',\n 'indispensableness',\n 'preternaturalness',\n 'CIRCUMNAVIGATION',\n 'undiscriminating',\n 'supernaturalness',\n 'uncomfortableness',\n 'irresistibleness',\n 'circumnavigations',\n 'hermaphroditical',\n 'uninterpenetratingly',\n 'indiscriminately',\n 'circumnavigation',\n 'responsibilities',\n 'superstitiousness',\n 'characteristically',\n 'physiognomically']"
     },
     "metadata": {},
     "output_type": "execute_result",
     "execution_count": 43
    }
   ],
   "source": [
    "long_words"
   ],
   "metadata": {
    "collapsed": false,
    "pycharm": {
     "name": "#%%\n",
     "is_executing": false
    }
   }
  },
  {
   "cell_type": "code",
   "execution_count": 45,
   "outputs": [
    {
     "data": {
      "text/plain": "['CIRCUMNAVIGATION',\n 'Physiognomically',\n 'apprehensiveness',\n 'cannibalistically',\n 'characteristically',\n 'circumnavigating',\n 'circumnavigation',\n 'circumnavigations',\n 'comprehensiveness',\n 'hermaphroditical',\n 'indiscriminately',\n 'indispensableness',\n 'irresistibleness',\n 'physiognomically',\n 'preternaturalness',\n 'responsibilities',\n 'simultaneousness',\n 'subterraneousness',\n 'supernaturalness',\n 'superstitiousness',\n 'uncomfortableness',\n 'uncompromisedness',\n 'undiscriminating',\n 'uninterpenetratingly']"
     },
     "metadata": {},
     "output_type": "execute_result",
     "execution_count": 45
    }
   ],
   "source": [
    "sorted(long_words)"
   ],
   "metadata": {
    "collapsed": false,
    "pycharm": {
     "name": "#%%\n",
     "is_executing": false
    }
   }
  },
  {
   "cell_type": "code",
   "execution_count": 49,
   "outputs": [
    {
     "traceback": [
      "\u001b[0;31m---------------------------------------------------------------------------\u001b[0m",
      "\u001b[0;31mValueError\u001b[0m                                Traceback (most recent call last)",
      "\u001b[0;32m<ipython-input-49-f6d52fd17e34>\u001b[0m in \u001b[0;36m<module>\u001b[0;34m\u001b[0m\n\u001b[0;32m----> 1\u001b[0;31m \u001b[0mtext4\u001b[0m\u001b[0;34m.\u001b[0m\u001b[0mcollocations\u001b[0m\u001b[0;34m(\u001b[0m\u001b[0;34m)\u001b[0m\u001b[0;34m\u001b[0m\u001b[0;34m\u001b[0m\u001b[0m\n\u001b[0m\u001b[1;32m      2\u001b[0m \u001b[0;34m\u001b[0m\u001b[0m\n",
      "\u001b[0;32m~/anaconda3/envs/itcs-4156/lib/python3.7/site-packages/nltk/text.py\u001b[0m in \u001b[0;36mcollocations\u001b[0;34m(self, num, window_size)\u001b[0m\n\u001b[1;32m    442\u001b[0m \u001b[0;34m\u001b[0m\u001b[0m\n\u001b[1;32m    443\u001b[0m         collocation_strings = [\n\u001b[0;32m--> 444\u001b[0;31m             \u001b[0mw1\u001b[0m \u001b[0;34m+\u001b[0m \u001b[0;34m\" \"\u001b[0m \u001b[0;34m+\u001b[0m \u001b[0mw2\u001b[0m \u001b[0;32mfor\u001b[0m \u001b[0mw1\u001b[0m\u001b[0;34m,\u001b[0m \u001b[0mw2\u001b[0m \u001b[0;32min\u001b[0m \u001b[0mself\u001b[0m\u001b[0;34m.\u001b[0m\u001b[0mcollocation_list\u001b[0m\u001b[0;34m(\u001b[0m\u001b[0mnum\u001b[0m\u001b[0;34m,\u001b[0m \u001b[0mwindow_size\u001b[0m\u001b[0;34m)\u001b[0m\u001b[0;34m\u001b[0m\u001b[0;34m\u001b[0m\u001b[0m\n\u001b[0m\u001b[1;32m    445\u001b[0m         ]\n\u001b[1;32m    446\u001b[0m         \u001b[0mprint\u001b[0m\u001b[0;34m(\u001b[0m\u001b[0mtokenwrap\u001b[0m\u001b[0;34m(\u001b[0m\u001b[0mcollocation_strings\u001b[0m\u001b[0;34m,\u001b[0m \u001b[0mseparator\u001b[0m\u001b[0;34m=\u001b[0m\u001b[0;34m\"; \"\u001b[0m\u001b[0;34m)\u001b[0m\u001b[0;34m)\u001b[0m\u001b[0;34m\u001b[0m\u001b[0;34m\u001b[0m\u001b[0m\n",
      "\u001b[0;32m~/anaconda3/envs/itcs-4156/lib/python3.7/site-packages/nltk/text.py\u001b[0m in \u001b[0;36m<listcomp>\u001b[0;34m(.0)\u001b[0m\n\u001b[1;32m    442\u001b[0m \u001b[0;34m\u001b[0m\u001b[0m\n\u001b[1;32m    443\u001b[0m         collocation_strings = [\n\u001b[0;32m--> 444\u001b[0;31m             \u001b[0mw1\u001b[0m \u001b[0;34m+\u001b[0m \u001b[0;34m\" \"\u001b[0m \u001b[0;34m+\u001b[0m \u001b[0mw2\u001b[0m \u001b[0;32mfor\u001b[0m \u001b[0mw1\u001b[0m\u001b[0;34m,\u001b[0m \u001b[0mw2\u001b[0m \u001b[0;32min\u001b[0m \u001b[0mself\u001b[0m\u001b[0;34m.\u001b[0m\u001b[0mcollocation_list\u001b[0m\u001b[0;34m(\u001b[0m\u001b[0mnum\u001b[0m\u001b[0;34m,\u001b[0m \u001b[0mwindow_size\u001b[0m\u001b[0;34m)\u001b[0m\u001b[0;34m\u001b[0m\u001b[0;34m\u001b[0m\u001b[0m\n\u001b[0m\u001b[1;32m    445\u001b[0m         ]\n\u001b[1;32m    446\u001b[0m         \u001b[0mprint\u001b[0m\u001b[0;34m(\u001b[0m\u001b[0mtokenwrap\u001b[0m\u001b[0;34m(\u001b[0m\u001b[0mcollocation_strings\u001b[0m\u001b[0;34m,\u001b[0m \u001b[0mseparator\u001b[0m\u001b[0;34m=\u001b[0m\u001b[0;34m\"; \"\u001b[0m\u001b[0;34m)\u001b[0m\u001b[0;34m)\u001b[0m\u001b[0;34m\u001b[0m\u001b[0;34m\u001b[0m\u001b[0m\n",
      "\u001b[0;31mValueError\u001b[0m: too many values to unpack (expected 2)"
     ],
     "ename": "ValueError",
     "evalue": "too many values to unpack (expected 2)",
     "output_type": "error"
    }
   ],
   "source": [
    "# Has issues with non-enterprise version of Anaconda\n",
    "text4.collocations()"
   ],
   "metadata": {
    "collapsed": false,
    "pycharm": {
     "name": "#%%\n",
     "is_executing": false
    }
   }
  },
  {
   "cell_type": "code",
   "execution_count": 52,
   "outputs": [
    {
     "data": {
      "text/plain": "['comfortableness',\n 'honourableness',\n 'immutableness',\n 'indispensableness',\n 'indomitableness',\n 'intolerableness',\n 'palpableness',\n 'reasonableness',\n 'uncomfortableness']"
     },
     "metadata": {},
     "output_type": "execute_result",
     "execution_count": 52
    }
   ],
   "source": [
    "sorted(w for w in set(text1) if w.endswith('ableness'))"
   ],
   "metadata": {
    "collapsed": false,
    "pycharm": {
     "name": "#%%\n",
     "is_executing": false
    }
   }
  },
  {
   "cell_type": "code",
   "execution_count": 53,
   "outputs": [
    {
     "data": {
      "text/plain": "['Sovereignty', 'sovereignties', 'sovereignty']"
     },
     "metadata": {},
     "output_type": "execute_result",
     "execution_count": 53
    }
   ],
   "source": [
    "sorted(term for term in set (text4) if 'gnt' in term)\n"
   ],
   "metadata": {
    "collapsed": false,
    "pycharm": {
     "name": "#%%\n",
     "is_executing": false
    }
   }
  }
 ],
 "metadata": {
  "kernelspec": {
   "display_name": "Python 3",
   "language": "python",
   "name": "python3"
  },
  "language_info": {
   "codemirror_mode": {
    "name": "ipython",
    "version": 2
   },
   "file_extension": ".py",
   "mimetype": "text/x-python",
   "name": "python",
   "nbconvert_exporter": "python",
   "pygments_lexer": "ipython2",
   "version": "2.7.6"
  },
  "pycharm": {
   "stem_cell": {
    "cell_type": "raw",
    "source": [],
    "metadata": {
     "collapsed": false
    }
   }
  }
 },
 "nbformat": 4,
 "nbformat_minor": 0
}