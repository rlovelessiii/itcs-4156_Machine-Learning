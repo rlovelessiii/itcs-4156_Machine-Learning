{
 "cells": [
  {
   "cell_type": "markdown",
   "metadata": {},
   "source": [
    "<img src=\"UNCC_logo.jpg\">"
   ]
  },
  {
   "cell_type": "code",
   "execution_count": null,
   "metadata": {},
   "outputs": [],
   "source": [
    "# Fill Out you Information here for organization of midterms when grading\n",
    "'''\n",
    "@Author: # Your Name Here\n",
    "@Date  : # Today's Date Here\n",
    "@Title : Introduction to Machine Learning - Midterm \n",
    "'''"
   ]
  },
  {
   "cell_type": "markdown",
   "metadata": {},
   "source": [
    "# Part 1: Data Curation"
   ]
  },
  {
   "cell_type": "code",
   "execution_count": 76,
   "metadata": {},
   "outputs": [],
   "source": [
    "# (1) Import the following libraries to your notebook: pandas, matplotlib.pyplot, numpy, seaborn\n"
   ]
  },
  {
   "cell_type": "code",
   "execution_count": 77,
   "metadata": {},
   "outputs": [],
   "source": [
    "# (2) Now, import the provided dataset: Demographic_Statistics_By_Zip_Code\n"
   ]
  },
  {
   "cell_type": "code",
   "execution_count": 78,
   "metadata": {},
   "outputs": [],
   "source": [
    "# (3) Print out the first 10 records of the dataset.\n"
   ]
  },
  {
   "cell_type": "code",
   "execution_count": 79,
   "metadata": {},
   "outputs": [],
   "source": [
    "# (4) Print out the statistical description of the dataframe:\n"
   ]
  },
  {
   "cell_type": "code",
   "execution_count": 81,
   "metadata": {},
   "outputs": [],
   "source": [
    "# (5) It can be hard to work with column names of dataframes when there are ' ' or spaces between the words, us the str.replace()\n",
    "#     method on df.columns to delete the ' ' so it is just ''\n"
   ]
  },
  {
   "cell_type": "code",
   "execution_count": 82,
   "metadata": {},
   "outputs": [],
   "source": [
    "# (6) Our last step of cleanup for the dataframe is to find all NaN values in the dataframe, print out the total missing values\n",
    "#     for each column.\n"
   ]
  },
  {
   "cell_type": "markdown",
   "metadata": {},
   "source": [
    "## (7) In the cell below, answer the following questions:\n",
    "<ul>\n",
    "  <li> 1. How many missing values are there in the 'PERCENTFEMALE' column?</li>\n",
    "  <li> 2. How mant total missing values are there in the entire dataset?</li>\n",
    "</ul>"
   ]
  },
  {
   "cell_type": "code",
   "execution_count": 83,
   "metadata": {},
   "outputs": [],
   "source": [
    "# ANSWER Question 1 Here in a comment.\n"
   ]
  },
  {
   "cell_type": "code",
   "execution_count": 84,
   "metadata": {},
   "outputs": [],
   "source": [
    "# ANSWER Question 2 Here in a comment.\n"
   ]
  },
  {
   "cell_type": "markdown",
   "metadata": {},
   "source": [
    "# Part 2: Data Anlysis"
   ]
  },
  {
   "cell_type": "code",
   "execution_count": 86,
   "metadata": {},
   "outputs": [],
   "source": [
    "# (8) Make a new dataframe from the original, exclusively using the columns: PERCENTFEMALE, PERCENTMALE, PERCENTUSCITIZEN,\n",
    "#     Then create a pairplot of the three columns to see correlations from the seaborn library.\n",
    "\n",
    "\n",
    "# Pairplot\n",
    "# sns.pairplot(<new_dataframe_name>)"
   ]
  },
  {
   "cell_type": "code",
   "execution_count": 88,
   "metadata": {},
   "outputs": [],
   "source": [
    "# (9) Now create another dataframe exclusively using the columns: COUNTAMERICANINDIAN, COUNTHISPANICLATINO, COUNTPACIFICISLANDER,\n",
    "#     and create a histogram of each column. (There should be comments on how to do this.)\n",
    "\n",
    "# Define bins\n",
    "bins = np.linspace(0,1,3)\n",
    "\n",
    "# Histogram\n",
    "plt.hist(<new_dataframe_name>, bins, alpha=0.5, label=['American Indian','Hispanic Latino','Pacific Islander'])\n",
    "plt.legend(loc = 'upper right')\n",
    "plt.show()"
   ]
  },
  {
   "cell_type": "markdown",
   "metadata": {},
   "source": [
    "# Part 3: Train, Test, Split"
   ]
  },
  {
   "cell_type": "code",
   "execution_count": 70,
   "metadata": {},
   "outputs": [
    {
     "data": {
      "text/plain": [
       "\"\\nAs You will see above the function produces 4 outputs that will be fed into X_train, X_test, y_train, y_test where the dataset\\nwas split using a 70% for test / 30% for train. The percentage split was given by the argument 'test_size', as you can see it is\\nset to 0.30, which provides 30% for the training model. This is an average split and other sizes may be used for different\\napplications, but be careful not to split the data too little (<= 5%) or too much (>= 50%). These are just loosley defined\\nparameters, but doing these test_size splits results in over/underfitted datasets that do not provide accurate measures of data.\\n\""
      ]
     },
     "execution_count": 70,
     "metadata": {},
     "output_type": "execute_result"
    }
   ],
   "source": [
    "# Import Train Test Split has been done for you.\n",
    "from sklearn import datasets, linear_model\n",
    "from sklearn.model_selection import train_test_split\n",
    "\n",
    "# Below is an example of how this train_test_split function works.\n",
    "# We will be looking at 'COUNTOTHERCITIZENSTATUS' column as our target variable.\n",
    "X = df.drop('COUNTPARTICIPANTS',axis=1)              # X Will be the entire dataset so far, dropping the selected column\n",
    "y = df['COUNTPARTICIPANTS']                          # Y Will be the column that we dropped from the dataset\n",
    "X_train, X_test, y_train, y_test = train_test_split(X, y, test_size=0.30)\n",
    "'''\n",
    "As You will see above the function produces 4 outputs that will be fed into X_train, X_test, y_train, y_test where the dataset\n",
    "was split using a 70% for test / 30% for train. The percentage split was given by the argument 'test_size', as you can see it is\n",
    "set to 0.30, which provides 30% for the training model. This is an average split and other sizes may be used for different\n",
    "applications, but be careful not to split the data too little (<= 5%) or too much (>= 50%). These are just loosley defined\n",
    "parameters, but doing these test_size splits results in over/underfitted datasets that do not provide accurate measures of data.\n",
    "'''"
   ]
  },
  {
   "cell_type": "code",
   "execution_count": 71,
   "metadata": {},
   "outputs": [
    {
     "data": {
      "text/html": [
       "<div>\n",
       "<style scoped>\n",
       "    .dataframe tbody tr th:only-of-type {\n",
       "        vertical-align: middle;\n",
       "    }\n",
       "\n",
       "    .dataframe tbody tr th {\n",
       "        vertical-align: top;\n",
       "    }\n",
       "\n",
       "    .dataframe thead th {\n",
       "        text-align: right;\n",
       "    }\n",
       "</style>\n",
       "<table border=\"1\" class=\"dataframe\">\n",
       "  <thead>\n",
       "    <tr style=\"text-align: right;\">\n",
       "      <th></th>\n",
       "      <th>JURISDICTIONNAME</th>\n",
       "      <th>COUNTFEMALE</th>\n",
       "      <th>PERCENTFEMALE</th>\n",
       "      <th>COUNTMALE</th>\n",
       "      <th>PERCENTMALE</th>\n",
       "      <th>COUNTGENDERUNKNOWN</th>\n",
       "      <th>PERCENTGENDERUNKNOWN</th>\n",
       "      <th>COUNTGENDERTOTAL</th>\n",
       "      <th>PERCENTGENDERTOTAL</th>\n",
       "      <th>COUNTPACIFICISLANDER</th>\n",
       "      <th>...</th>\n",
       "      <th>COUNTCITIZENSTATUSTOTAL</th>\n",
       "      <th>PERCENTCITIZENSTATUSTOTAL</th>\n",
       "      <th>COUNTRECEIVESPUBLICASSISTANCE</th>\n",
       "      <th>PERCENTRECEIVESPUBLICASSISTANCE</th>\n",
       "      <th>COUNTNRECEIVESPUBLICASSISTANCE</th>\n",
       "      <th>PERCENTNRECEIVESPUBLICASSISTANCE</th>\n",
       "      <th>COUNTPUBLICASSISTANCEUNKNOWN</th>\n",
       "      <th>PERCENTPUBLICASSISTANCEUNKNOWN</th>\n",
       "      <th>COUNTPUBLICASSISTANCETOTAL</th>\n",
       "      <th>PERCENTPUBLICASSISTANCETOTAL</th>\n",
       "    </tr>\n",
       "  </thead>\n",
       "  <tbody>\n",
       "    <tr>\n",
       "      <th>0</th>\n",
       "      <td>10001</td>\n",
       "      <td>22</td>\n",
       "      <td>0.50</td>\n",
       "      <td>22</td>\n",
       "      <td>0.50</td>\n",
       "      <td>0</td>\n",
       "      <td>0</td>\n",
       "      <td>44</td>\n",
       "      <td>100</td>\n",
       "      <td>0</td>\n",
       "      <td>...</td>\n",
       "      <td>44</td>\n",
       "      <td>100</td>\n",
       "      <td>20</td>\n",
       "      <td>0.45</td>\n",
       "      <td>24</td>\n",
       "      <td>0.55</td>\n",
       "      <td>0</td>\n",
       "      <td>0</td>\n",
       "      <td>44</td>\n",
       "      <td>100</td>\n",
       "    </tr>\n",
       "    <tr>\n",
       "      <th>1</th>\n",
       "      <td>10002</td>\n",
       "      <td>19</td>\n",
       "      <td>0.54</td>\n",
       "      <td>16</td>\n",
       "      <td>0.46</td>\n",
       "      <td>0</td>\n",
       "      <td>0</td>\n",
       "      <td>35</td>\n",
       "      <td>100</td>\n",
       "      <td>0</td>\n",
       "      <td>...</td>\n",
       "      <td>35</td>\n",
       "      <td>100</td>\n",
       "      <td>2</td>\n",
       "      <td>0.06</td>\n",
       "      <td>33</td>\n",
       "      <td>0.94</td>\n",
       "      <td>0</td>\n",
       "      <td>0</td>\n",
       "      <td>35</td>\n",
       "      <td>100</td>\n",
       "    </tr>\n",
       "    <tr>\n",
       "      <th>2</th>\n",
       "      <td>10003</td>\n",
       "      <td>1</td>\n",
       "      <td>1.00</td>\n",
       "      <td>0</td>\n",
       "      <td>0.00</td>\n",
       "      <td>0</td>\n",
       "      <td>0</td>\n",
       "      <td>1</td>\n",
       "      <td>100</td>\n",
       "      <td>0</td>\n",
       "      <td>...</td>\n",
       "      <td>1</td>\n",
       "      <td>100</td>\n",
       "      <td>0</td>\n",
       "      <td>0.00</td>\n",
       "      <td>1</td>\n",
       "      <td>1.00</td>\n",
       "      <td>0</td>\n",
       "      <td>0</td>\n",
       "      <td>1</td>\n",
       "      <td>100</td>\n",
       "    </tr>\n",
       "    <tr>\n",
       "      <th>3</th>\n",
       "      <td>10004</td>\n",
       "      <td>0</td>\n",
       "      <td>0.00</td>\n",
       "      <td>0</td>\n",
       "      <td>0.00</td>\n",
       "      <td>0</td>\n",
       "      <td>0</td>\n",
       "      <td>0</td>\n",
       "      <td>0</td>\n",
       "      <td>0</td>\n",
       "      <td>...</td>\n",
       "      <td>0</td>\n",
       "      <td>0</td>\n",
       "      <td>0</td>\n",
       "      <td>0.00</td>\n",
       "      <td>0</td>\n",
       "      <td>0.00</td>\n",
       "      <td>0</td>\n",
       "      <td>0</td>\n",
       "      <td>0</td>\n",
       "      <td>0</td>\n",
       "    </tr>\n",
       "    <tr>\n",
       "      <th>4</th>\n",
       "      <td>10005</td>\n",
       "      <td>2</td>\n",
       "      <td>1.00</td>\n",
       "      <td>0</td>\n",
       "      <td>0.00</td>\n",
       "      <td>0</td>\n",
       "      <td>0</td>\n",
       "      <td>2</td>\n",
       "      <td>100</td>\n",
       "      <td>0</td>\n",
       "      <td>...</td>\n",
       "      <td>2</td>\n",
       "      <td>100</td>\n",
       "      <td>0</td>\n",
       "      <td>0.00</td>\n",
       "      <td>2</td>\n",
       "      <td>1.00</td>\n",
       "      <td>0</td>\n",
       "      <td>0</td>\n",
       "      <td>2</td>\n",
       "      <td>100</td>\n",
       "    </tr>\n",
       "  </tbody>\n",
       "</table>\n",
       "<p>5 rows × 45 columns</p>\n",
       "</div>"
      ],
      "text/plain": [
       "   JURISDICTIONNAME  COUNTFEMALE  PERCENTFEMALE  COUNTMALE  PERCENTMALE  \\\n",
       "0             10001           22           0.50         22         0.50   \n",
       "1             10002           19           0.54         16         0.46   \n",
       "2             10003            1           1.00          0         0.00   \n",
       "3             10004            0           0.00          0         0.00   \n",
       "4             10005            2           1.00          0         0.00   \n",
       "\n",
       "   COUNTGENDERUNKNOWN  PERCENTGENDERUNKNOWN  COUNTGENDERTOTAL  \\\n",
       "0                   0                     0                44   \n",
       "1                   0                     0                35   \n",
       "2                   0                     0                 1   \n",
       "3                   0                     0                 0   \n",
       "4                   0                     0                 2   \n",
       "\n",
       "   PERCENTGENDERTOTAL  COUNTPACIFICISLANDER  ...  COUNTCITIZENSTATUSTOTAL  \\\n",
       "0                 100                     0  ...                       44   \n",
       "1                 100                     0  ...                       35   \n",
       "2                 100                     0  ...                        1   \n",
       "3                   0                     0  ...                        0   \n",
       "4                 100                     0  ...                        2   \n",
       "\n",
       "   PERCENTCITIZENSTATUSTOTAL  COUNTRECEIVESPUBLICASSISTANCE  \\\n",
       "0                        100                             20   \n",
       "1                        100                              2   \n",
       "2                        100                              0   \n",
       "3                          0                              0   \n",
       "4                        100                              0   \n",
       "\n",
       "   PERCENTRECEIVESPUBLICASSISTANCE  COUNTNRECEIVESPUBLICASSISTANCE  \\\n",
       "0                             0.45                              24   \n",
       "1                             0.06                              33   \n",
       "2                             0.00                               1   \n",
       "3                             0.00                               0   \n",
       "4                             0.00                               2   \n",
       "\n",
       "   PERCENTNRECEIVESPUBLICASSISTANCE  COUNTPUBLICASSISTANCEUNKNOWN  \\\n",
       "0                              0.55                             0   \n",
       "1                              0.94                             0   \n",
       "2                              1.00                             0   \n",
       "3                              0.00                             0   \n",
       "4                              1.00                             0   \n",
       "\n",
       "   PERCENTPUBLICASSISTANCEUNKNOWN  COUNTPUBLICASSISTANCETOTAL  \\\n",
       "0                               0                          44   \n",
       "1                               0                          35   \n",
       "2                               0                           1   \n",
       "3                               0                           0   \n",
       "4                               0                           2   \n",
       "\n",
       "   PERCENTPUBLICASSISTANCETOTAL  \n",
       "0                           100  \n",
       "1                           100  \n",
       "2                           100  \n",
       "3                             0  \n",
       "4                           100  \n",
       "\n",
       "[5 rows x 45 columns]"
      ]
     },
     "execution_count": 71,
     "metadata": {},
     "output_type": "execute_result"
    }
   ],
   "source": [
    "# View our test dataframe\n",
    "X.head()"
   ]
  },
  {
   "cell_type": "code",
   "execution_count": 72,
   "metadata": {},
   "outputs": [],
   "source": [
    "# fit a model\n",
    "lm = linear_model.LinearRegression()\n",
    "\n",
    "model = lm.fit(X_train, y_train)\n",
    "predictions = lm.predict(X_test)"
   ]
  },
  {
   "cell_type": "code",
   "execution_count": 73,
   "metadata": {},
   "outputs": [
    {
     "data": {
      "text/plain": [
       "array([ 1.62730902e-15,  1.92063952e-14, -5.57582655e-14,  1.37974456e-14,\n",
       "        1.40000000e+01])"
      ]
     },
     "execution_count": 73,
     "metadata": {},
     "output_type": "execute_result"
    }
   ],
   "source": [
    "predictions[0:5]"
   ]
  },
  {
   "cell_type": "code",
   "execution_count": 74,
   "metadata": {},
   "outputs": [
    {
     "data": {
      "text/plain": [
       "Text(0, 0.5, 'Predictions')"
      ]
     },
     "execution_count": 74,
     "metadata": {},
     "output_type": "execute_result"
    },
    {
     "data": {
      "image/png": "[encoded data removed]",
      "text/plain": [
       "<Figure size 432x288 with 1 Axes>"
      ]
     },
     "metadata": {
      "needs_background": "light"
     },
     "output_type": "display_data"
    }
   ],
   "source": [
    "plt.scatter(y_test, predictions)\n",
    "plt.xlabel('True Values')\n",
    "plt.ylabel('Predictions')"
   ]
  },
  {
   "cell_type": "code",
   "execution_count": 87,
   "metadata": {},
   "outputs": [],
   "source": [
    "# (10) Print out the score of the model using model.score() on the X_test and y_test values\n"
   ]
  }
 ],
 "metadata": {
  "kernelspec": {
   "display_name": "Python 3",
   "language": "python",
   "name": "python3"
  },
  "language_info": {
   "codemirror_mode": {
    "name": "ipython",
    "version": 3
   },
   "file_extension": ".py",
   "mimetype": "text/x-python",
   "name": "python",
   "nbconvert_exporter": "python",
   "pygments_lexer": "ipython3",
   "version": "3.7.0"
  }
 },
 "nbformat": 4,
 "nbformat_minor": 2
}
